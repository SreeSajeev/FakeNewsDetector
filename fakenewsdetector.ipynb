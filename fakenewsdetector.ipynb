{
 "cells": [
  {
   "cell_type": "code",
   "execution_count": 33,
   "id": "89d6d9b4",
   "metadata": {},
   "outputs": [],
   "source": [
    "df = pd.read_csv(r'C:\\Users\\DELL\\Desktop\\data science\\python_project\\Fake-News-Detector\\FakeNewsDetector\\news.csv')\n"
   ]
  },
  {
   "cell_type": "code",
   "execution_count": 34,
   "id": "73f95a06",
   "metadata": {},
   "outputs": [
    {
     "name": "stdout",
     "output_type": "stream",
     "text": [
      "   Unnamed: 0                                              title  \\\n",
      "0        8476                       You Can Smell Hillary’s Fear   \n",
      "1       10294  Watch The Exact Moment Paul Ryan Committed Pol...   \n",
      "2        3608        Kerry to go to Paris in gesture of sympathy   \n",
      "3       10142  Bernie supporters on Twitter erupt in anger ag...   \n",
      "4         875   The Battle of New York: Why This Primary Matters   \n",
      "\n",
      "                                                text label  \n",
      "0  Daniel Greenfield, a Shillman Journalism Fello...  FAKE  \n",
      "1  Google Pinterest Digg Linkedin Reddit Stumbleu...  FAKE  \n",
      "2  U.S. Secretary of State John F. Kerry said Mon...  REAL  \n",
      "3  — Kaydee King (@KaydeeKing) November 9, 2016 T...  FAKE  \n",
      "4  It's primary day in New York and front-runners...  REAL  \n",
      "<class 'pandas.core.frame.DataFrame'>\n",
      "RangeIndex: 6335 entries, 0 to 6334\n",
      "Data columns (total 4 columns):\n",
      " #   Column      Non-Null Count  Dtype \n",
      "---  ------      --------------  ----- \n",
      " 0   Unnamed: 0  6335 non-null   int64 \n",
      " 1   title       6335 non-null   object\n",
      " 2   text        6335 non-null   object\n",
      " 3   label       6335 non-null   object\n",
      "dtypes: int64(1), object(3)\n",
      "memory usage: 198.1+ KB\n",
      "None\n"
     ]
    }
   ],
   "source": [
    "print(df.head())\n",
    "print(df.info())\n"
   ]
  },
  {
   "cell_type": "code",
   "execution_count": 35,
   "id": "6ed84932",
   "metadata": {},
   "outputs": [
    {
     "name": "stderr",
     "output_type": "stream",
     "text": [
      "[nltk_data] Downloading package stopwords to\n",
      "[nltk_data]     C:\\Users\\DELL\\AppData\\Roaming\\nltk_data...\n",
      "[nltk_data]   Unzipping corpora\\stopwords.zip.\n"
     ]
    }
   ],
   "source": [
    "import pandas as pd\n",
    "import numpy as np\n",
    "import re\n",
    "import string\n",
    "import nltk\n",
    "nltk.download('stopwords')\n",
    "from nltk.corpus import stopwords"
   ]
  },
  {
   "cell_type": "code",
   "execution_count": 36,
   "id": "763f094a",
   "metadata": {},
   "outputs": [],
   "source": [
    "\n",
    "# Drop Unnamed column if present\n",
    "if 'Unnamed: 0' in df.columns:\n",
    "    df = df.drop(columns=['Unnamed: 0'])"
   ]
  },
  {
   "cell_type": "code",
   "execution_count": 37,
   "id": "973667c4",
   "metadata": {},
   "outputs": [],
   "source": [
    "# Merge title + text into full_text\n",
    "df['full_text'] = df['title'].fillna('') + ' ' + df['text'].fillna('')"
   ]
  },
  {
   "cell_type": "code",
   "execution_count": 38,
   "id": "60d2190f",
   "metadata": {},
   "outputs": [
    {
     "name": "stdout",
     "output_type": "stream",
     "text": [
      "                                               title  \\\n",
      "0                       You Can Smell Hillary’s Fear   \n",
      "1  Watch The Exact Moment Paul Ryan Committed Pol...   \n",
      "2        Kerry to go to Paris in gesture of sympathy   \n",
      "3  Bernie supporters on Twitter erupt in anger ag...   \n",
      "4   The Battle of New York: Why This Primary Matters   \n",
      "\n",
      "                                                text label  \n",
      "0  Daniel Greenfield, a Shillman Journalism Fello...  FAKE  \n",
      "1  Google Pinterest Digg Linkedin Reddit Stumbleu...  FAKE  \n",
      "2  U.S. Secretary of State John F. Kerry said Mon...  REAL  \n",
      "3  — Kaydee King (@KaydeeKing) November 9, 2016 T...  FAKE  \n",
      "4  It's primary day in New York and front-runners...  REAL  \n"
     ]
    }
   ],
   "source": [
    "\n",
    "# Preview\n",
    "print(df[['title', 'text', 'label']].head())"
   ]
  },
  {
   "cell_type": "code",
   "execution_count": 39,
   "id": "44a2ac74",
   "metadata": {},
   "outputs": [],
   "source": [
    "def clean_text(text):\n",
    "    # Lowercase\n",
    "    text = text.lower()\n",
    "    # Remove punctuation and non-alphabetic characters\n",
    "    text = re.sub(r'[^a-z\\s]', '', text)\n",
    "    # Remove extra spaces\n",
    "    text = re.sub(r'\\s+', ' ', text).strip()\n",
    "    return text\n",
    "\n",
    "df['clean_text'] = df['full_text'].apply(clean_text)\n"
   ]
  },
  {
   "cell_type": "code",
   "execution_count": 40,
   "id": "e0b5a99d",
   "metadata": {},
   "outputs": [],
   "source": [
    "stop_words = set(stopwords.words('english'))\n",
    "\n",
    "def remove_stopwords(text):\n",
    "    return ' '.join([word for word in text.split() if word not in stop_words])\n",
    "\n",
    "df['clean_text'] = df['clean_text'].apply(remove_stopwords)\n"
   ]
  },
  {
   "cell_type": "code",
   "execution_count": 41,
   "id": "2b481773",
   "metadata": {},
   "outputs": [],
   "source": [
    "# If not already binary: 'FAKE' → 0, 'REAL' → 1\n",
    "df['label'] = df['label'].map({'FAKE': 0, 'REAL': 1})\n"
   ]
  },
  {
   "cell_type": "code",
   "execution_count": 42,
   "id": "dbb991ca",
   "metadata": {},
   "outputs": [
    {
     "name": "stdout",
     "output_type": "stream",
     "text": [
      "                                          clean_text  label\n",
      "0  smell hillarys fear daniel greenfield shillman...      0\n",
      "1  watch exact moment paul ryan committed politic...      0\n",
      "2  kerry go paris gesture sympathy us secretary s...      1\n",
      "3  bernie supporters twitter erupt anger dnc trie...      0\n",
      "4  battle new york primary matters primary day ne...      1\n",
      "label\n",
      "1    3171\n",
      "0    3164\n",
      "Name: count, dtype: int64\n"
     ]
    }
   ],
   "source": [
    "print(df[['clean_text', 'label']].head())\n",
    "print(df['label'].value_counts())  # Check balance\n"
   ]
  },
  {
   "cell_type": "code",
   "execution_count": 43,
   "id": "4b5ccd96",
   "metadata": {},
   "outputs": [],
   "source": [
    "#Train a baseline model using TF-IDF + Logistic Regression\n",
    "#Train-Test Split\n",
    "from sklearn.model_selection import train_test_split\n",
    "\n",
    "X = df['clean_text']\n",
    "y = df['label']\n",
    "\n",
    "X_train, X_test, y_train, y_test = train_test_split(\n",
    "    X, y, test_size=0.2, stratify=y, random_state=42)\n"
   ]
  },
  {
   "cell_type": "code",
   "execution_count": 44,
   "id": "acc42fc1",
   "metadata": {},
   "outputs": [],
   "source": [
    "#TF-IDF Vectorization\n",
    "from sklearn.feature_extraction.text import TfidfVectorizer\n",
    "\n",
    "tfidf = TfidfVectorizer(max_features=5000)\n",
    "X_train_tfidf = tfidf.fit_transform(X_train)\n",
    "X_test_tfidf = tfidf.transform(X_test)\n"
   ]
  },
  {
   "cell_type": "code",
   "execution_count": 45,
   "id": "bc8c8cd3",
   "metadata": {},
   "outputs": [],
   "source": [
    "#Train a Classifier (Logistic Regression)"
   ]
  },
  {
   "cell_type": "code",
   "execution_count": 46,
   "id": "26528b23",
   "metadata": {},
   "outputs": [
    {
     "name": "stdout",
     "output_type": "stream",
     "text": [
      "Accuracy: 0.9194948697711128\n",
      "Classification Report:\n",
      "               precision    recall  f1-score   support\n",
      "\n",
      "           0       0.90      0.94      0.92       633\n",
      "           1       0.94      0.90      0.92       634\n",
      "\n",
      "    accuracy                           0.92      1267\n",
      "   macro avg       0.92      0.92      0.92      1267\n",
      "weighted avg       0.92      0.92      0.92      1267\n",
      "\n"
     ]
    }
   ],
   "source": [
    "from sklearn.linear_model import LogisticRegression\n",
    "from sklearn.metrics import classification_report, confusion_matrix, accuracy_score\n",
    "\n",
    "model = LogisticRegression()\n",
    "model.fit(X_train_tfidf, y_train)\n",
    "\n",
    "y_pred = model.predict(X_test_tfidf)\n",
    "\n",
    "print(\"Accuracy:\", accuracy_score(y_test, y_pred))\n",
    "print(\"Classification Report:\\n\", classification_report(y_test, y_pred))\n"
   ]
  },
  {
   "cell_type": "code",
   "execution_count": 47,
   "id": "b1d0b8fb",
   "metadata": {},
   "outputs": [
    {
     "name": "stdout",
     "output_type": "stream",
     "text": [
      "🔴 Top 'FAKE' indicators:\n",
      "fox: 2.0629\n",
      "islamic: 2.1180\n",
      "state: 2.1211\n",
      "debate: 2.2950\n",
      "president: 2.3083\n",
      "sanders: 2.4135\n",
      "candidates: 2.5277\n",
      "cruz: 2.6956\n",
      "gop: 2.7550\n",
      "said: 6.5626\n",
      "\n",
      "🟢 Top 'REAL' indicators:\n",
      "october: -4.5693\n",
      "hillary: -3.8679\n",
      "election: -2.8209\n",
      "november: -2.8071\n",
      "article: -2.4623\n",
      "share: -2.4381\n",
      "source: -2.2480\n",
      "fbi: -2.2260\n",
      "russia: -2.2145\n",
      "wikileaks: -1.9598\n"
     ]
    }
   ],
   "source": [
    "## Get top contributing words\n",
    "feature_names = tfidf.get_feature_names_out()\n",
    "coefficients = model.coef_[0]\n",
    "\n",
    "top_fake = np.argsort(coefficients)[-10:]\n",
    "top_real = np.argsort(coefficients)[:10]\n",
    "\n",
    "print(\"🔴 Top 'FAKE' indicators:\")\n",
    "for i in top_fake:\n",
    "    print(f\"{feature_names[i]}: {coefficients[i]:.4f}\")\n",
    "\n",
    "print(\"\\n🟢 Top 'REAL' indicators:\")\n",
    "for i in top_real:\n",
    "    print(f\"{feature_names[i]}: {coefficients[i]:.4f}\")\n"
   ]
  },
  {
   "cell_type": "code",
   "execution_count": 48,
   "id": "9cfcf17f",
   "metadata": {},
   "outputs": [],
   "source": [
    "#Create a Prediction + Explanation Function\n",
    "import numpy as np\n",
    "\n",
    "def explain_prediction(text, model, vectorizer, top_n=10):\n",
    "    # Vectorize the input text\n",
    "    vec = vectorizer.transform([text])\n",
    "    prediction = model.predict(vec)[0]\n",
    "    proba = model.predict_proba(vec)[0]\n",
    "\n",
    "    # Get feature importance\n",
    "    feature_names = vectorizer.get_feature_names_out()\n",
    "    coefs = model.coef_[0]\n",
    "    \n",
    "    # Multiply TF-IDF weights by model coefficients\n",
    "    scores = vec.toarray()[0] * coefs\n",
    "    word_score_pairs = [\n",
    "        (feature_names[i], scores[i])\n",
    "        for i in range(len(scores)) if scores[i] != 0\n",
    "    ]\n",
    "\n",
    "    word_score_pairs.sort(key=lambda x: abs(x[1]), reverse=True)\n",
    "    top_words = word_score_pairs[:top_n]\n",
    "\n",
    "    return {\n",
    "        'prediction': prediction,\n",
    "        'confidence': round(np.max(proba), 2),\n",
    "        'top_words': top_words\n",
    "    }\n"
   ]
  },
  {
   "cell_type": "code",
   "execution_count": 49,
   "id": "f559c34f",
   "metadata": {},
   "outputs": [
    {
     "name": "stdout",
     "output_type": "stream",
     "text": [
      "Prediction: 0 (99.00%)\n",
      "Top Influential Words:\n",
      "hillary: -1.2322\n",
      "fbi: -1.1663\n",
      "investigation: -0.4663\n",
      "elections: -0.3324\n",
      "clinton: 0.0909\n"
     ]
    }
   ],
   "source": [
    "sample_text = \"Hillary Clinton was under FBI investigation during the elections.\"\n",
    "result = explain_prediction(sample_text, model, tfidf)\n",
    "\n",
    "print(f\"Prediction: {result['prediction']} ({result['confidence'] * 100:.2f}%)\")\n",
    "print(\"Top Influential Words:\")\n",
    "for word, score in result['top_words']:\n",
    "    print(f\"{word}: {score:.4f}\")\n"
   ]
  }
 ],
 "metadata": {
  "kernelspec": {
   "display_name": "Python 3",
   "language": "python",
   "name": "python3"
  },
  "language_info": {
   "codemirror_mode": {
    "name": "ipython",
    "version": 3
   },
   "file_extension": ".py",
   "mimetype": "text/x-python",
   "name": "python",
   "nbconvert_exporter": "python",
   "pygments_lexer": "ipython3",
   "version": "3.12.6"
  }
 },
 "nbformat": 4,
 "nbformat_minor": 5
}
